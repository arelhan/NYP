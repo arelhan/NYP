{
 "cells": [
  {
   "cell_type": "code",
   "execution_count": 32,
   "metadata": {},
   "outputs": [
    {
     "ename": "FileNotFoundError",
     "evalue": "[Errno 2] No such file or directory: 'Products.txt'",
     "output_type": "error",
     "traceback": [
      "\u001b[0;31m---------------------------------------------------------------------------\u001b[0m",
      "\u001b[0;31mFileNotFoundError\u001b[0m                         Traceback (most recent call last)",
      "Cell \u001b[0;32mIn[32], line 71\u001b[0m\n\u001b[1;32m     69\u001b[0m         \u001b[38;5;28;01mreturn\u001b[39;00m total_balance\n\u001b[1;32m     70\u001b[0m \u001b[38;5;66;03m#örnek kullanım\u001b[39;00m\n\u001b[0;32m---> 71\u001b[0m \u001b[38;5;28;01mwith\u001b[39;00m \u001b[38;5;28;43mopen\u001b[39;49m\u001b[43m(\u001b[49m\u001b[38;5;124;43m\"\u001b[39;49m\u001b[38;5;124;43mProducts.txt\u001b[39;49m\u001b[38;5;124;43m\"\u001b[39;49m\u001b[43m,\u001b[49m\u001b[38;5;124;43m\"\u001b[39;49m\u001b[38;5;124;43mr\u001b[39;49m\u001b[38;5;124;43m\"\u001b[39;49m\u001b[43m)\u001b[49m\u001b[38;5;28;01mas\u001b[39;00m file:\n\u001b[1;32m     72\u001b[0m     lines\u001b[38;5;241m=\u001b[39mfile\u001b[38;5;241m.\u001b[39mreadline()\n\u001b[1;32m     73\u001b[0m     products\u001b[38;5;241m=\u001b[39m[ProductHelper\u001b[38;5;241m.\u001b[39mcreate_item_from_text(line) \u001b[38;5;28;01mfor\u001b[39;00m line \u001b[38;5;129;01min\u001b[39;00m lines \u001b[38;5;28;01mif\u001b[39;00m line\u001b[38;5;241m.\u001b[39mstrip()]\n",
      "File \u001b[0;32m~/Library/Python/3.12/lib/python/site-packages/IPython/core/interactiveshell.py:310\u001b[0m, in \u001b[0;36m_modified_open\u001b[0;34m(file, *args, **kwargs)\u001b[0m\n\u001b[1;32m    303\u001b[0m \u001b[38;5;28;01mif\u001b[39;00m file \u001b[38;5;129;01min\u001b[39;00m {\u001b[38;5;241m0\u001b[39m, \u001b[38;5;241m1\u001b[39m, \u001b[38;5;241m2\u001b[39m}:\n\u001b[1;32m    304\u001b[0m     \u001b[38;5;28;01mraise\u001b[39;00m \u001b[38;5;167;01mValueError\u001b[39;00m(\n\u001b[1;32m    305\u001b[0m         \u001b[38;5;124mf\u001b[39m\u001b[38;5;124m\"\u001b[39m\u001b[38;5;124mIPython won\u001b[39m\u001b[38;5;124m'\u001b[39m\u001b[38;5;124mt let you open fd=\u001b[39m\u001b[38;5;132;01m{\u001b[39;00mfile\u001b[38;5;132;01m}\u001b[39;00m\u001b[38;5;124m by default \u001b[39m\u001b[38;5;124m\"\u001b[39m\n\u001b[1;32m    306\u001b[0m         \u001b[38;5;124m\"\u001b[39m\u001b[38;5;124mas it is likely to crash IPython. If you know what you are doing, \u001b[39m\u001b[38;5;124m\"\u001b[39m\n\u001b[1;32m    307\u001b[0m         \u001b[38;5;124m\"\u001b[39m\u001b[38;5;124myou can use builtins\u001b[39m\u001b[38;5;124m'\u001b[39m\u001b[38;5;124m open.\u001b[39m\u001b[38;5;124m\"\u001b[39m\n\u001b[1;32m    308\u001b[0m     )\n\u001b[0;32m--> 310\u001b[0m \u001b[38;5;28;01mreturn\u001b[39;00m \u001b[43mio_open\u001b[49m\u001b[43m(\u001b[49m\u001b[43mfile\u001b[49m\u001b[43m,\u001b[49m\u001b[43m \u001b[49m\u001b[38;5;241;43m*\u001b[39;49m\u001b[43margs\u001b[49m\u001b[43m,\u001b[49m\u001b[43m \u001b[49m\u001b[38;5;241;43m*\u001b[39;49m\u001b[38;5;241;43m*\u001b[39;49m\u001b[43mkwargs\u001b[49m\u001b[43m)\u001b[49m\n",
      "\u001b[0;31mFileNotFoundError\u001b[0m: [Errno 2] No such file or directory: 'Products.txt'"
     ]
    }
   ],
   "source": [
    "class Product(object):\n",
    "    def __init__(self,name:str=\"Default\", price:float=0, quantity:int=1) -> None:\n",
    "        print(f\"An instance with name: {name} has been derived from Product Class\")\n",
    "        self.__name=name\n",
    "        self.__price= price\n",
    "        self.__quantity=quantity\n",
    "    @property\n",
    "    def name(self):\n",
    "        return self.__name\n",
    "    @property\n",
    "    def price(self):\n",
    "        return self.__price\n",
    "    @property\n",
    "    def quantity(self):\n",
    "        return self.__quantity\n",
    "    \n",
    "    @name.setter\n",
    "    def name(self,value):\n",
    "            if len(value) >=3 and len(value) <=8:\n",
    "               self.__name = value\n",
    "            else:\n",
    "               return print(\"İsim en az 3 en fazla 8 karakter alabilir.\")\n",
    "            \n",
    "\n",
    "    @price.setter\n",
    "    def price(self,value):\n",
    "         if value<0:\n",
    "            self.__price=0\n",
    "            print(\"0 dan kucuk deger girdiginiz icin 0 olarak degistirildi.\")\n",
    "         else:\n",
    "              self.__price=value \n",
    "        \n",
    "           \n",
    "        \n",
    "\n",
    "    @quantity.setter\n",
    "    def quantity(self,value):\n",
    "        if value<0:\n",
    "             print(\"adet degeri en az 0 olabilir\")\n",
    "        else:\n",
    "         self.__quantity=value\n",
    "    \n",
    "    def get_total_price(self):\n",
    "         return self.__price * self.__quantity\n",
    "    \n",
    "    def display_info(self):\n",
    "        print(f\"Ürün Adı: {self._name}\")\n",
    "        print(f\"Fiyatı: {self._price} TL\")\n",
    "        print(f\"Adeti: {self._quantity}\")\n",
    "        print(f\"Toplam Fiyat: {self.get_total_price()} TL\")\n",
    "\n",
    "    def __repr__(self) -> str:\n",
    "         return f\"name = {self.__name} - price = {self.__price} - quantity = {self.__quantity}\"\n",
    "class ProductHelper():\n",
    "    @staticmethod\n",
    "    def create_item_from_text(line):\n",
    "        try:\n",
    "            name,price,quantity=line.strip().split(\",\")\n",
    "            price=float(price)\n",
    "            quantity=int(quantity)\n",
    "            return Product(name,price,quantity)\n",
    "        except ValueError:\n",
    "            print(f\"Hatali_Satir - {line}\")   \n",
    "    @staticmethod\n",
    "    def get_total_price(products):\n",
    "        total_balance=sum(products.get_totalprice for product in products) \n",
    "        #yüzde 20 kdv ekleyelim\n",
    "        total_balance*=1.20\n",
    "        return total_balance\n",
    "#örnek kullanım\n",
    "with open(\"Products.txt\",\"r\")as file:\n",
    "    lines=file.readline()\n",
    "    products=[ProductHelper.create_item_from_text(line) for line in lines if line.strip()]\n",
    "    totalbalance =ProductHelper.get_total_price(products)\n",
    "    print(f\"Toplam bakiye KDV dahil : {totalbalance:.2f} TL\")\n",
    "\n"
   ]
  },
  {
   "cell_type": "code",
   "execution_count": null,
   "metadata": {},
   "outputs": [],
   "source": [
    "urun1 = Product(\"Bilgisayar\", 750, 3)\n",
    "urun1.display_info()\n",
    "item1=Product(\"Laptop\",1000,3)\n",
    "item1.name=\"dizustu\"\n",
    "item1.price=99999\n",
    "item1.quantity=-1\n",
    "print(item1)\n",
    "print(item1.get_total_price())"
   ]
  },
  {
   "cell_type": "code",
   "execution_count": null,
   "metadata": {},
   "outputs": [],
   "source": [
    "print(item1.name)\n",
    "print(item1.price)\n",
    "print(item1.quantity)"
   ]
  }
 ],
 "metadata": {
  "kernelspec": {
   "display_name": "Python 3",
   "language": "python",
   "name": "python3"
  },
  "language_info": {
   "codemirror_mode": {
    "name": "ipython",
    "version": 3
   },
   "file_extension": ".py",
   "mimetype": "text/x-python",
   "name": "python",
   "nbconvert_exporter": "python",
   "pygments_lexer": "ipython3",
   "version": "3.12.2"
  }
 },
 "nbformat": 4,
 "nbformat_minor": 2
}
