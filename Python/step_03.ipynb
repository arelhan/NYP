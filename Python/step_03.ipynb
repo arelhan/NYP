{
 "cells": [
  {
   "cell_type": "code",
   "execution_count": 27,
   "metadata": {},
   "outputs": [],
   "source": [
    "import os\n",
    "class Product(object):\n",
    "    def __init__(self,name:str=\"Default\", price:float=0, quantity:int=1) -> None:\n",
    "        print(f\"An instance with name: {name} has been derived from Product Class\")\n",
    "        self.__name=name\n",
    "        self.__price= price\n",
    "        self.__quantity=quantity\n",
    "    @property\n",
    "    def name(self):\n",
    "        return self.__name\n",
    "    @property\n",
    "    def price(self):\n",
    "        return self.__price\n",
    "    @property\n",
    "    def quantity(self):\n",
    "        return self.__quantity\n",
    "    \n",
    "    @name.setter\n",
    "    def name(self,value):\n",
    "            if len(value) >=3 and len(value) <=8:\n",
    "               self.__name = value\n",
    "            else:\n",
    "               return print(\"İsim en az 3 en fazla 8 karakter alabilir.\")\n",
    "            \n",
    "\n",
    "    @price.setter\n",
    "    def price(self,value):\n",
    "         if value<0:\n",
    "            self.__price=0\n",
    "            print(\"0 dan kucuk deger girdiginiz icin 0 olarak degistirildi.\")\n",
    "         else:\n",
    "              self.__price=value \n",
    "        \n",
    "           \n",
    "        \n",
    "\n",
    "    @quantity.setter\n",
    "    def quantity(self,value):\n",
    "        if value<0:\n",
    "             print(\"adet degeri en az 0 olabilir\")\n",
    "        else:\n",
    "         self.__quantity=value\n",
    "    \n",
    "    def get_total_price(self):\n",
    "         return self.__price * self.__quantity\n",
    "    \n",
    "    def display_info(self):\n",
    "        print(f\"Ürün Adı: {self._name}\")\n",
    "        print(f\"Fiyatı: {self._price} TL\")\n",
    "        print(f\"Adeti: {self._quantity}\")\n",
    "        print(f\"Toplam Fiyat: {self.get_total_price()} TL\")\n",
    "\n",
    "    def __repr__(self) -> str:\n",
    "         return f\"name = {self.__name} - price = {self.__price} - quantity = {self.__quantity}\"\n",
    "class ProductHelper:\n",
    "    @staticmethod\n",
    "    def create_item_from_text(line):\n",
    "        try:\n",
    "            name, price, quantity = line.strip().split(\",\")\n",
    "            price = float(price)\n",
    "            quantity = int(quantity)\n",
    "            return Product(name, price, quantity)\n",
    "        except ValueError:\n",
    "            print(f\"Hatalı satır: {line}\")\n",
    "\n",
    "    @staticmethod\n",
    "    def get_total_balance(products):\n",
    "        total_balance = sum(product.get_total_price() for product in products)\n",
    "        # KDV ekleyelim (örneğin %20)\n",
    "        total_balance *= 1.20\n",
    "        return total_balance"
   ]
  },
  {
   "cell_type": "code",
   "execution_count": 28,
   "metadata": {},
   "outputs": [
    {
     "name": "stdout",
     "output_type": "stream",
     "text": [
      "An instance with name: Macbook has been derived from Product Class\n",
      "An instance with name: ipod has been derived from Product Class\n",
      "An instance with name: Laptop has been derived from Product Class\n",
      "An instance with name: Telefon has been derived from Product Class\n",
      "An instance with name: Klavye has been derived from Product Class\n"
     ]
    }
   ],
   "source": [
    "# Örnek kullanım\n",
    "with open(\"Products.txt\", \"r\") as file:\n",
    "    lines = file.readlines()\n",
    "    products = [ProductHelper.create_item_from_text(line) for line in lines if line.strip()]\n",
    "    total_balance = ProductHelper.get_total_balance(products)"
   ]
  },
  {
   "cell_type": "code",
   "execution_count": null,
   "metadata": {},
   "outputs": [],
   "source": []
  }
 ],
 "metadata": {
  "kernelspec": {
   "display_name": "Python 3",
   "language": "python",
   "name": "python3"
  },
  "language_info": {
   "codemirror_mode": {
    "name": "ipython",
    "version": 3
   },
   "file_extension": ".py",
   "mimetype": "text/x-python",
   "name": "python",
   "nbconvert_exporter": "python",
   "pygments_lexer": "ipython3",
   "version": "3.12.2"
  }
 },
 "nbformat": 4,
 "nbformat_minor": 2
}
