{
 "cells": [
  {
   "cell_type": "code",
   "execution_count": null,
   "metadata": {},
   "outputs": [],
   "source": [
    "class Product(object):\n",
    "    def __init__(self,name:str=\"Default\", price:float=0, quantity:int=1) -> None:\n",
    "        print(f\"An instance with name: {name} has been derived from Product Class\")\n",
    "        self.__name=name\n",
    "        self.__price= price\n",
    "        self.__quantity=quantity\n",
    "    @property\n",
    "    def name(self):\n",
    "        return self.__name\n",
    "    @property\n",
    "    def price(self):\n",
    "        return self.__price\n",
    "    @property\n",
    "    def quantity(self):\n",
    "        return self.__quantity\n",
    "    \n",
    "    @name.setter\n",
    "    def name(self,value):\n",
    "            if len(value) >=3 and len(value) <=8:\n",
    "               self.__name = value\n",
    "            else:\n",
    "               return print(\"İsim en az 3 en fazla 8 karakter alabilir.\")\n",
    "            \n",
    "\n",
    "    @price.setter\n",
    "    def price(self,value):\n",
    "         if value<0:\n",
    "            self.__price=0\n",
    "            print(\"0 dan kucuk deger girdiginiz icin 0 olarak degistirildi.\")\n",
    "         else:\n",
    "              self.__price=value \n",
    "        \n",
    "           \n",
    "        \n",
    "\n",
    "    @quantity.setter\n",
    "    def quantity(self,value):\n",
    "        if value<0:\n",
    "             print(\"adet degeri en az 0 olabilir\")\n",
    "        else:\n",
    "         self.__quantity=value\n",
    "    \n",
    "    def get_total_price(self):\n",
    "         return self.__price * self.__quantity\n",
    "    \n",
    "    def __repr__(self) -> str:\n",
    "         return f\"name = {self.__name} - price = {self.__price} - quantity = {self.__quantity}\"\n",
    "    \n",
    "\n"
   ]
  },
  {
   "cell_type": "code",
   "execution_count": null,
   "metadata": {},
   "outputs": [],
   "source": [
    "\n",
    "item1=Product(\"Laptop\",1000,3)\n",
    "item1.name=\"dizustu\"\n",
    "item1.price=99999\n",
    "item1.quantity=-1\n",
    "print(item1)\n",
    "print(item1.get_total_price())"
   ]
  },
  {
   "cell_type": "code",
   "execution_count": null,
   "metadata": {},
   "outputs": [],
   "source": [
    "print(item1.name)\n",
    "print(item1.price)\n",
    "print(item1.quantity)"
   ]
  }
 ],
 "metadata": {
  "kernelspec": {
   "display_name": "Python 3",
   "language": "python",
   "name": "python3"
  },
  "language_info": {
   "codemirror_mode": {
    "name": "ipython",
    "version": 3
   },
   "file_extension": ".py",
   "mimetype": "text/x-python",
   "name": "python",
   "nbconvert_exporter": "python",
   "pygments_lexer": "ipython3",
   "version": "3.12.2"
  }
 },
 "nbformat": 4,
 "nbformat_minor": 2
}
