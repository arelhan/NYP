{
 "cells": [
  {
   "cell_type": "code",
   "execution_count": 5,
   "metadata": {},
   "outputs": [],
   "source": [
    "class Product(object):\n",
    "    def __init__(self,name:str=\"Default\", price:float=0, quantity:int=1) -> None:\n",
    "        print(f\"An instance with name: {name} has been derived from Product Class\")\n",
    "        self.__name=name\n",
    "        self.__price= price\n",
    "        self.__quantity=quantity\n",
    "    @property\n",
    "    def name(self):\n",
    "        return self.__name\n",
    "    @property\n",
    "    def price(self):\n",
    "        return self.__price\n",
    "    @property\n",
    "    def quantity(self):\n",
    "        return self.__quantity\n",
    "    \n",
    "    @name.setter\n",
    "    def name(self,value):\n",
    "            if len(value) >=3 or len(value) <=8:\n",
    "               self.__name = value\n",
    "            else:\n",
    "               return f\"Hata\"\n",
    "            \n",
    "\n",
    "    @price.setter\n",
    "    def price(self,value):\n",
    "         self.__price=value\n",
    "        \n",
    "    @quantity.setter\n",
    "    def quantity(self,value):\n",
    "         self.__quantity=value\n",
    "    \n",
    "    def get_total_price(self):\n",
    "         return self.__price * self.__quantity\n",
    "    \n",
    "    def __repr__(self) -> str:\n",
    "         return f\"name = {self.__name} - price = {self.__price} - quantity = {self.__quantity}\"\n",
    "    \n",
    "\n"
   ]
  },
  {
   "cell_type": "code",
   "execution_count": 6,
   "metadata": {},
   "outputs": [
    {
     "name": "stdout",
     "output_type": "stream",
     "text": [
      "An instance with name: Laptop has been derived from Product Class\n",
      "name = Ahmet - price = 1000 - quantity = 3\n",
      "3000\n"
     ]
    }
   ],
   "source": [
    "\n",
    "item1=Product(\"Laptop\",1000,3)\n",
    "item1.name=\"Ahmet\"\n",
    "print(item1)\n",
    "print(item1.get_total_price())"
   ]
  },
  {
   "cell_type": "code",
   "execution_count": 7,
   "metadata": {},
   "outputs": [
    {
     "name": "stdout",
     "output_type": "stream",
     "text": [
      "Ahmet\n",
      "1000\n",
      "3\n"
     ]
    }
   ],
   "source": [
    "print(item1.name)\n",
    "print(item1.price)\n",
    "print(item1.quantity)"
   ]
  }
 ],
 "metadata": {
  "kernelspec": {
   "display_name": "Python 3",
   "language": "python",
   "name": "python3"
  },
  "language_info": {
   "codemirror_mode": {
    "name": "ipython",
    "version": 3
   },
   "file_extension": ".py",
   "mimetype": "text/x-python",
   "name": "python",
   "nbconvert_exporter": "python",
   "pygments_lexer": "ipython3",
   "version": "3.12.2"
  }
 },
 "nbformat": 4,
 "nbformat_minor": 2
}
